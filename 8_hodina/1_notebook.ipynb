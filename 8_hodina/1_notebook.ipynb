{
 "cells": [
  {
   "cell_type": "code",
   "execution_count": 1,
   "metadata": {},
   "outputs": [
    {
     "name": "stdout",
     "output_type": "stream",
     "text": [
      "Kniha Tam a tam má 2 stran a stojí 100 \n",
      "Kniha Tam a tam má 2 stran a stojí 80.0 \n"
     ]
    }
   ],
   "source": [
    "class Kniha:\n",
    "    def __init__(self, nazev, pocet_stran, cena):\n",
    "        self.nazev = nazev\n",
    "        self.pocet_stran = pocet_stran\n",
    "        self.cena = cena\n",
    "\n",
    "\n",
    "\n",
    "    def __str__(self) -> str:\n",
    "        return f\"Kniha {self.nazev} má {self.pocet_stran} stran a stojí {self.cena} \"\n",
    "    \n",
    "    def sleva(self, sleva_na_knihu = 20):\n",
    "        self.cena = self.cena*((100-20)/100)\n",
    "        return f\"Užij si to :)\"\n",
    "    \n",
    "\n",
    "Slovnik = Kniha(\"Tam a tam\", 2, 100)\n",
    "O_detech = Kniha(\"Zdezde\", \"5\", 200)\n",
    "Matematika = Kniha(\"hlehle\", \"1\", 300)\n",
    "\n",
    "\n",
    "print(Slovnik)\n",
    "Slovnik.sleva()\n",
    "print(Slovnik)   "
   ]
  }
 ],
 "metadata": {
  "kernelspec": {
   "display_name": "Python 3",
   "language": "python",
   "name": "python3"
  },
  "language_info": {
   "codemirror_mode": {
    "name": "ipython",
    "version": 3
   },
   "file_extension": ".py",
   "mimetype": "text/x-python",
   "name": "python",
   "nbconvert_exporter": "python",
   "pygments_lexer": "ipython3",
   "version": "3.9.10"
  },
  "orig_nbformat": 4
 },
 "nbformat": 4,
 "nbformat_minor": 2
}
